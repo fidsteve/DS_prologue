{
 "cells": [
  {
   "cell_type": "code",
   "execution_count": 160,
   "metadata": {
    "collapsed": false
   },
   "outputs": [
    {
     "data": {
      "text/html": [
       "<p class=\"resource-container\"><a href=\"#\"><code>Prologue to Data Science</code><span style=\"background: url(community.png);\"></span></a></p>"
      ],
      "text/plain": [
       "<IPython.core.display.HTML object>"
      ]
     },
     "execution_count": 160,
     "metadata": {},
     "output_type": "execute_result"
    }
   ],
   "source": [
    "from IPython.core.display import HTML\n",
    "def print_resource(txt,url,img): return HTML('<p class=\"resource-container\"><a href=\"%s\"><code>%s</code><span style=\"background: url(%s);\"></span></a></p>' % (url,txt,img,))\n",
    "# print_resource(\"Prologue to Data Science\",'#','assets/l.png')\n",
    "print_resource(\"Prologue to Data Science\",'#','community.png')"
   ]
  },
  {
   "cell_type": "markdown",
   "metadata": {},
   "source": [
    "> It is a capital mistake to theorize before one has data. Insensibly one begins to twist facts to suit theories, instead of theories to suit facts.\n",
    "\n",
    "<footer>~ Arthur Conan Doyle, Sherlock Holmes</footer>"
   ]
  },
  {
   "cell_type": "markdown",
   "metadata": {},
   "source": [
    "This guide acts as a prologue to Data Science and is a prerequisite for [General Assembly's Data Science](https://generalassemb.ly/education/data-science) course. It will guide you through the basics of the Python programming language, teach you how to operate your computer through the command line, and refresh your stats knowledge.\n",
    "\n",
    "The modern Data Scientist doesn't always need to know the mathematics that go on behind the scenes, but they _do_ need to be intimately familiar with the characteristics of the various machine learning algorithms - e.g. which types of data they are suitable for, how to measure their accuracy, and how to interpret their output. \n",
    "\n",
    "To _design_ and _assess_ the validity of your data models, you'll at least need a **statistics** vocabulary equivalent to one offered by college-level  course. The materials referenced in this guide provide a succinct refresher. But as you'll also want to _implement_ and _iterate_ over your data models once you've designed them, you also need some **programming** skills. Data Scientists often work with a scripting language with strong machine learning libraries. _R_ is a common contender, but for the purposes of this introduction _Python_ is used to teach you the basics of computational thinking.\n",
    "\n",
    "Each of the following banners will lead you to an online resource which will  set you on your journey as fledgling Data Science. The topics presented here are both wide and deep, so where appropriate, the _minimum_ requirements are  listed. Data Science is an intellectually challenging pursuit, but let that not deter you. Data Scientists are often just better statisticians than most programmers, and better programmers than most statisticians. It's through a hybrid of the two domains that they develop their invaluable skill-set."
   ]
  },
  {
   "cell_type": "code",
   "execution_count": 161,
   "metadata": {
    "collapsed": true
   },
   "outputs": [],
   "source": [
    "%matplotlib inline"
   ]
  },
  {
   "cell_type": "code",
   "execution_count": 162,
   "metadata": {
    "collapsed": false
   },
   "outputs": [],
   "source": [
    "import IPython\n",
    "import pandas as pd\n",
    "import seaborn as sns\n",
    "from matplotlib_venn import venn3, venn3_circles\n",
    "from matplotlib import pyplot as plt\n",
    "\n",
    "# Utility Functions\n",
    "def table(df, print_index=True, print_header=True):\n",
    "    return IPython.display.display(HTML(df.to_html(index=print_index, header=print_header).replace('<table border=\"1\" class=\"dataframe\">','<table class=\"table table-striped table-hover\">')))\n",
    "\n",
    "def resource_table(ref):\n",
    "    return table(df.ix[df.Ref == ref, 1:],False,True)"
   ]
  },
  {
   "cell_type": "markdown",
   "metadata": {},
   "source": [
    "## Data Science Roadmap"
   ]
  },
  {
   "cell_type": "markdown",
   "metadata": {},
   "source": [
    "Before we can get you started on data science, you're going to have to get comfortable with the foundations upon which Data Science build: "
   ]
  },
  {
   "cell_type": "code",
   "execution_count": 163,
   "metadata": {
    "collapsed": false
   },
   "outputs": [
    {
     "data": {
      "image/png": "[encoded data removed]",
      "text/plain": [
       "<matplotlib.figure.Figure at 0x7f0c84e59650>"
      ]
     },
     "metadata": {},
     "output_type": "display_data"
    }
   ],
   "source": [
    "# Generate a Venn Diagram\n",
    "clist = ['red','blue','black']\n",
    "subsets = (1, 1, 1, 1, 1, 1, 1)\n",
    "data = {\n",
    "    '100':'Stats',\n",
    "    '010':'Code',\n",
    "    '001':'Data',\n",
    "    '111':'Data Science \\n Roadmap'\n",
    "}\n",
    "\n",
    "with sns.plotting_context(\"poster\"):\n",
    "    v = venn3(subsets, set_colors=clist, alpha=0.4)\n",
    "    c = venn3_circles(subsets, alpha=0)\n",
    "\n",
    "    for k in v.id2idx.keys():\n",
    "        v.get_label_by_id(k).set_text('')\n",
    "    \n",
    "    for k, p in data.iteritems():\n",
    "        v.get_label_by_id(k).set_text(p)\n",
    "        v.get_patch_by_id('001').set_alpha(.6)\n",
    "        \n",
    "    for label in data.iterkeys():\n",
    "        v.get_label_by_id(label).set_alpha(1)\n",
    "        v.get_label_by_id(label).set_color('white')\n",
    "        v.get_label_by_id(label).set_fontweight(700)\n",
    "        v.get_label_by_id(label).set_fontsize(20)\n",
    "        v.get_label_by_id(label).set_fontname('Roboto')"
   ]
  },
  {
   "cell_type": "markdown",
   "metadata": {},
   "source": [
    "### Checklist"
   ]
  },
  {
   "cell_type": "code",
   "execution_count": 164,
   "metadata": {
    "collapsed": true
   },
   "outputs": [],
   "source": [
    "cols = ['Ref','Media Type','Resource Depth','Level Up To','Style','HK$']\n",
    "df = pd.read_csv('resources.csv', names=cols)"
   ]
  },
  {
   "cell_type": "markdown",
   "metadata": {},
   "source": [
    "We find ourselves attracted to Data Science at different stages of life and with different experiences and skillsets. I've therefore tried to put together a list of resources in each of the 3 foundations for data science, where you'll hopefully find one that suits your needs. For example, if you're already a programmer, there's a quick guide to the Python syntax, if you're new to programming entirely, it's wise to spend some more time with some more expository materials. Whatever your skill level however, pick at least _one item from each section_ and add them to your checklist. "
   ]
  },
  {
   "cell_type": "code",
   "execution_count": 165,
   "metadata": {
    "collapsed": false
   },
   "outputs": [
    {
     "name": "stdout",
     "output_type": "stream",
     "text": [
      "\n",
      "\n"
     ]
    }
   ],
   "source": [
    "print '\\n'"
   ]
  },
  {
   "cell_type": "markdown",
   "metadata": {},
   "source": [
    "# Code"
   ]
  },
  {
   "cell_type": "markdown",
   "metadata": {},
   "source": [
    "Programming is making the computer do what you can’t be bothered or do not have a long enough life span to do yourself. Most analysis is crunched by programs and now most beautiful data visuals are drawn by them. While `R` is the de facto standard for performing statistical analysis, it has quite a high learning curve and there are other areas of data science for which it is not well suited. To avoid learning a new language for a specific problem domain, we will use `Python` and its numerous statistical libraries. You will find that much of the functionality of `R` can be replicated with `NumPy`, `SciPy`, `matplotlib`, and `pandas`.\n"
   ]
  },
  {
   "cell_type": "code",
   "execution_count": 166,
   "metadata": {
    "collapsed": false
   },
   "outputs": [
    {
     "data": {
      "text/html": [
       "<p class=\"resource-container\"><a href=\"https://developers.google.com/edu/python/\"><code>Google's Python Course</code><span style=\"background: url(assets/gdb.JPG);\"></span></a></p>"
      ],
      "text/plain": [
       "<IPython.core.display.HTML object>"
      ]
     },
     "execution_count": 166,
     "metadata": {},
     "output_type": "execute_result"
    }
   ],
   "source": [
    "print_resource(\"Google's Python Course\",'https://developers.google.com/edu/python/','assets/gdb.JPG')"
   ]
  },
  {
   "cell_type": "code",
   "execution_count": 167,
   "metadata": {
    "collapsed": false
   },
   "outputs": [
    {
     "data": {
      "text/html": [
       "<table class=\"table table-striped table-hover\">\n",
       "  <thead>\n",
       "    <tr style=\"text-align: right;\">\n",
       "      <th>Media Type</th>\n",
       "      <th>Resource Depth</th>\n",
       "      <th>Level Up To</th>\n",
       "      <th>Style</th>\n",
       "      <th>HK$</th>\n",
       "    </tr>\n",
       "  </thead>\n",
       "  <tbody>\n",
       "    <tr>\n",
       "      <td>videos / notes / excercises</td>\n",
       "      <td>1 day</td>\n",
       "      <td>solid foundation</td>\n",
       "      <td>tech literate</td>\n",
       "      <td>Free</td>\n",
       "    </tr>\n",
       "  </tbody>\n",
       "</table>"
      ],
      "text/plain": [
       "<IPython.core.display.HTML object>"
      ]
     },
     "metadata": {},
     "output_type": "display_data"
    }
   ],
   "source": [
    "resource_table('google-python')"
   ]
  },
  {
   "cell_type": "markdown",
   "metadata": {},
   "source": [
    "#### Checklist Requirement\n",
    "\n",
    "Up to _[Python Dict and File](https://developers.google.com/edu/python/dict-files)_ & _[Exercise: wordcount.py](https://developers.google.com/edu/python/exercises/basic)_\n",
    "\n",
    "#### Summary\n",
    "\n",
    "This is a free class for people with a little bit of programming experience who want to learn Python. The class includes written materials, lecture videos, and lots of code exercises to practice Python coding. These materials are used within Google to introduce Python to people who have just a little programming experience. "
   ]
  },
  {
   "cell_type": "code",
   "execution_count": 168,
   "metadata": {
    "collapsed": false
   },
   "outputs": [
    {
     "data": {
      "text/html": [
       "<p class=\"resource-container\"><a href=\"https://copy.com/6D3JLxGXWaPQGU2H\"><code>Python Language Essentials</code><span style=\"background: url(assets/Python_natalensis_Smith_1840.jpg);\"></span></a></p>"
      ],
      "text/plain": [
       "<IPython.core.display.HTML object>"
      ]
     },
     "execution_count": 168,
     "metadata": {},
     "output_type": "execute_result"
    }
   ],
   "source": [
    "print_resource(\"Python Language Essentials\",\n",
    "               'https://copy.com/6D3JLxGXWaPQGU2H','assets/Python_natalensis_Smith_1840.jpg')"
   ]
  },
  {
   "cell_type": "code",
   "execution_count": 169,
   "metadata": {
    "collapsed": false
   },
   "outputs": [
    {
     "data": {
      "text/html": [
       "<table class=\"table table-striped table-hover\">\n",
       "  <thead>\n",
       "    <tr style=\"text-align: right;\">\n",
       "      <th>Media Type</th>\n",
       "      <th>Resource Depth</th>\n",
       "      <th>Level Up To</th>\n",
       "      <th>Style</th>\n",
       "      <th>HK$</th>\n",
       "    </tr>\n",
       "  </thead>\n",
       "  <tbody>\n",
       "    <tr>\n",
       "      <td>book</td>\n",
       "      <td>50 p.</td>\n",
       "      <td>practical foundation</td>\n",
       "      <td>reference</td>\n",
       "      <td>Free</td>\n",
       "    </tr>\n",
       "  </tbody>\n",
       "</table>"
      ],
      "text/plain": [
       "<IPython.core.display.HTML object>"
      ]
     },
     "metadata": {},
     "output_type": "display_data"
    }
   ],
   "source": [
    "resource_table('pydata-python')"
   ]
  },
  {
   "cell_type": "markdown",
   "metadata": {},
   "source": [
    "#### Checklist Requirement\n",
    "\n",
    "The full appendix to _[Python for Data Analysis](http://shop.oreilly.com/product/0636920023784.do)_\n",
    "\n",
    "#### Summary\n",
    "\n",
    "This 50 page appendix to 'Python for Data Analysis' is not intended to be an exhaustive introduction to the Python language but rather a biased, no-frills overview of features which are used repeatedly in Data Science projects. For new Python programmers, it is recommended that you supplement this with the official [Python tutorial](http://docs.python.org) and potentially one of the many excellent (and much longer) books on general purpose Python programming."
   ]
  },
  {
   "cell_type": "code",
   "execution_count": 170,
   "metadata": {
    "collapsed": false
   },
   "outputs": [
    {
     "data": {
      "text/html": [
       "<p class=\"resource-container\"><a href=\"http://www.codecademy.com/en/tracks/python\"><code>CodeAcademy</code><span style=\"background: url(assets/codecademy.png);\"></span></a></p>"
      ],
      "text/plain": [
       "<IPython.core.display.HTML object>"
      ]
     },
     "execution_count": 170,
     "metadata": {},
     "output_type": "execute_result"
    }
   ],
   "source": [
    "print_resource('CodeAcademy','http://www.codecademy.com/en/tracks/python','assets/codecademy.png')"
   ]
  },
  {
   "cell_type": "code",
   "execution_count": 171,
   "metadata": {
    "collapsed": false
   },
   "outputs": [
    {
     "data": {
      "text/html": [
       "<table class=\"table table-striped table-hover\">\n",
       "  <thead>\n",
       "    <tr style=\"text-align: right;\">\n",
       "      <th>Media Type</th>\n",
       "      <th>Resource Depth</th>\n",
       "      <th>Level Up To</th>\n",
       "      <th>Style</th>\n",
       "      <th>HK$</th>\n",
       "    </tr>\n",
       "  </thead>\n",
       "  <tbody>\n",
       "    <tr>\n",
       "      <td>interactive lessons</td>\n",
       "      <td>~ 9 hours</td>\n",
       "      <td>OK foundation</td>\n",
       "      <td>hand-holding</td>\n",
       "      <td>Free</td>\n",
       "    </tr>\n",
       "  </tbody>\n",
       "</table>"
      ],
      "text/plain": [
       "<IPython.core.display.HTML object>"
      ]
     },
     "metadata": {},
     "output_type": "display_data"
    }
   ],
   "source": [
    "resource_table('codecademy-python')"
   ]
  },
  {
   "cell_type": "markdown",
   "metadata": {},
   "source": [
    "#### Checklist Requirement\n",
    "\n",
    "Up until Codecademy's [exam statistics](http://www.codecademy.com/courses/python-intermediate-en-7mgOa/0/1) unit\n",
    "\n",
    "#### Summary\n",
    "\n",
    "CodeAcademy is a free website with tutorials to teach users rudimentary programming. Its Python course is aimed at non-programmers and will slowly take you through various programming concepts. The course is split up in teaching and practice units so you'll also learn why certain techniques are useful. Remember that Codecademy also provides an excellent [glossary](http://www.codecademy.com/glossary/python) of concepts and techniques you'll likely employ in your adventures.\n"
   ]
  },
  {
   "cell_type": "code",
   "execution_count": 172,
   "metadata": {
    "collapsed": false
   },
   "outputs": [
    {
     "data": {
      "text/html": [
       "<p class=\"resource-container\"><a href=\"http://anandology.com/python-practice-book/index.html\"><code>Python Practice Book</code><span style=\"background: url(assets/PythonPracticeBook.jpg);\"></span></a></p>"
      ],
      "text/plain": [
       "<IPython.core.display.HTML object>"
      ]
     },
     "execution_count": 172,
     "metadata": {},
     "output_type": "execute_result"
    }
   ],
   "source": [
    "print_resource('Python Practice Book','http://anandology.com/python-practice-book/index.html','assets/PythonPracticeBook.jpg')"
   ]
  },
  {
   "cell_type": "code",
   "execution_count": 173,
   "metadata": {
    "collapsed": false
   },
   "outputs": [
    {
     "data": {
      "text/html": [
       "<table class=\"table table-striped table-hover\">\n",
       "  <thead>\n",
       "    <tr style=\"text-align: right;\">\n",
       "      <th>Media Type</th>\n",
       "      <th>Resource Depth</th>\n",
       "      <th>Level Up To</th>\n",
       "      <th>Style</th>\n",
       "      <th>HK$</th>\n",
       "    </tr>\n",
       "  </thead>\n",
       "  <tbody>\n",
       "    <tr>\n",
       "      <td>online reference / exercises</td>\n",
       "      <td>~ 7 hours</td>\n",
       "      <td>OK Foundation</td>\n",
       "      <td>reference</td>\n",
       "      <td>Free</td>\n",
       "    </tr>\n",
       "  </tbody>\n",
       "</table>"
      ],
      "text/plain": [
       "<IPython.core.display.HTML object>"
      ]
     },
     "metadata": {},
     "output_type": "display_data"
    }
   ],
   "source": [
    "resource_table('practicebook-python')"
   ]
  },
  {
   "cell_type": "markdown",
   "metadata": {},
   "source": [
    "#### Checklist Requirement\n",
    "\n",
    "Chapters [1. Getting Started](http://anandology.com/python-practice-book/getting-started.html) and [2. Working with Data](http://anandology.com/python-practice-book/working-with-data.html), also read [ A Plan for Spam by Paul Graham](http://paulgraham.com/spam.html) which describes a method of detecting spam using probability of occurrence of a word in spam.\n",
    "\n",
    "#### Summary\n",
    "\n",
    "This book is prepared from the training notes of Anand Chitipothu. Good presentation, stays on topic with lot's of little excercises to check comprehension."
   ]
  },
  {
   "cell_type": "code",
   "execution_count": 174,
   "metadata": {
    "collapsed": false
   },
   "outputs": [
    {
     "data": {
      "text/html": [
       "<p class=\"resource-container\"><a href=\"https://generalassemb.ly/education?topic=8\"><code>General Assembly</code><span style=\"background: url(assets/gads.png);\"></span></a></p>"
      ],
      "text/plain": [
       "<IPython.core.display.HTML object>"
      ]
     },
     "execution_count": 174,
     "metadata": {},
     "output_type": "execute_result"
    }
   ],
   "source": [
    "print_resource('General Assembly','https://generalassemb.ly/education?topic=8','assets/gads.png')"
   ]
  },
  {
   "cell_type": "code",
   "execution_count": 175,
   "metadata": {
    "collapsed": false
   },
   "outputs": [
    {
     "data": {
      "text/html": [
       "<table class=\"table table-striped table-hover\">\n",
       "  <thead>\n",
       "    <tr style=\"text-align: right;\">\n",
       "      <th>Media Type</th>\n",
       "      <th>Resource Depth</th>\n",
       "      <th>Level Up To</th>\n",
       "      <th>Style</th>\n",
       "      <th>HK$</th>\n",
       "    </tr>\n",
       "  </thead>\n",
       "  <tbody>\n",
       "    <tr>\n",
       "      <td>workshop</td>\n",
       "      <td>150 min</td>\n",
       "      <td>bare essentials</td>\n",
       "      <td>interactive</td>\n",
       "      <td>HK$ 400</td>\n",
       "    </tr>\n",
       "  </tbody>\n",
       "</table>"
      ],
      "text/plain": [
       "<IPython.core.display.HTML object>"
      ]
     },
     "metadata": {},
     "output_type": "display_data"
    }
   ],
   "source": [
    "resource_table('ga-python')"
   ]
  },
  {
   "cell_type": "markdown",
   "metadata": {},
   "source": [
    "#### Checklist Requirement\n",
    "\n",
    "The introductory course is run once every month in Hong Kong. Sign up through  [General Assembly](https://generalassemb.ly/education/intro-to-python/hong-kong/12635).\n",
    "\n",
    "Although if you are new to programming, you need to supplement this item with another Python entry on your checklist before you're ready to start doing Data Science.\n",
    "\n",
    "#### Summary\n",
    "\n",
    "This workshop explores Python's place in the scientific ecosystem, and how the language, with several readily-available open-source libraries, can serve as a powerful tool for data analysis. Designed as a stand-alone introduction to the data science aspects of Python, this class is also a recommended refresher for students planning to enroll in General Assembly's upcoming Data Science course."
   ]
  },
  {
   "cell_type": "code",
   "execution_count": 176,
   "metadata": {
    "collapsed": false
   },
   "outputs": [
    {
     "name": "stdout",
     "output_type": "stream",
     "text": [
      "\n",
      "\n"
     ]
    }
   ],
   "source": [
    "print '\\n'"
   ]
  },
  {
   "cell_type": "markdown",
   "metadata": {},
   "source": [
    "# Stats"
   ]
  },
  {
   "cell_type": "code",
   "execution_count": 177,
   "metadata": {
    "collapsed": false
   },
   "outputs": [
    {
     "data": {
      "text/html": [
       "<p class=\"resource-container\"><a href=\"http://www.greenteapress.com/thinkstats/index.html\"><code>Think Stats: Statistics for Programmers</code><span style=\"background: url(assets/think_stats.png);\"></span></a></p>"
      ],
      "text/plain": [
       "<IPython.core.display.HTML object>"
      ]
     },
     "execution_count": 177,
     "metadata": {},
     "output_type": "execute_result"
    }
   ],
   "source": [
    "print_resource('Think Stats: Statistics for Programmers','http://www.greenteapress.com/thinkstats/index.html','assets/think_stats.png')"
   ]
  },
  {
   "cell_type": "code",
   "execution_count": 178,
   "metadata": {
    "collapsed": false
   },
   "outputs": [
    {
     "data": {
      "text/html": [
       "<table class=\"table table-striped table-hover\">\n",
       "  <thead>\n",
       "    <tr style=\"text-align: right;\">\n",
       "      <th>Media Type</th>\n",
       "      <th>Resource Depth</th>\n",
       "      <th>Level Up To</th>\n",
       "      <th>Style</th>\n",
       "      <th>HK$</th>\n",
       "    </tr>\n",
       "  </thead>\n",
       "  <tbody>\n",
       "    <tr>\n",
       "      <td>book</td>\n",
       "      <td>NaN</td>\n",
       "      <td>practical foundation</td>\n",
       "      <td>programmer oriented</td>\n",
       "      <td>Free</td>\n",
       "    </tr>\n",
       "  </tbody>\n",
       "</table>"
      ],
      "text/plain": [
       "<IPython.core.display.HTML object>"
      ]
     },
     "metadata": {},
     "output_type": "display_data"
    }
   ],
   "source": [
    "resource_table('think-stats')"
   ]
  },
  {
   "cell_type": "markdown",
   "metadata": {},
   "source": [
    "#### Checklist Requirement\n",
    "\n",
    "0. Preface (8 mins)\n",
    "1. Statistical Thinking for Programmers (14 mins)\n",
    "2. Descriptive Statistics (19 mins)\n",
    "3. Cumulative Distribution Functions (16 mins)\n",
    "4. Continuous Distributions (23 mins)\n",
    "5. Probability (23 mins)\n",
    "\n",
    "\n",
    "#### Summary \n",
    "\n",
    "_Think Stats_ is an introduction to Probability and Statistics for people who have some exposure to python. It emphasizes simple techniques you can use to explore real data sets and answer interesting questions. Readers are encouraged to work on a project with real datasets.\n",
    "\n",
    "Because it uses a programming language, it covers data analysis from beginning to end: viewing data, calculating descriptive statistics, identifying outliers, describing data using the distributions (and explaining what the distributions really mean!). Going through this small book, the goal is understanding and using statistics, not just learning statistics."
   ]
  },
  {
   "cell_type": "code",
   "execution_count": 179,
   "metadata": {
    "collapsed": false
   },
   "outputs": [
    {
     "data": {
      "text/html": [
       "<table class=\"table table-striped table-hover\">\n",
       "  <thead>\n",
       "    <tr style=\"text-align: right;\">\n",
       "      <th>Media Type</th>\n",
       "      <th>Resource Depth</th>\n",
       "      <th>Level Up To</th>\n",
       "      <th>Style</th>\n",
       "      <th>HK$</th>\n",
       "    </tr>\n",
       "  </thead>\n",
       "  <tbody>\n",
       "    <tr>\n",
       "      <td>book</td>\n",
       "      <td>NaN</td>\n",
       "      <td>solid foundation</td>\n",
       "      <td>conversational $</td>\n",
       "      <td>NaN</td>\n",
       "    </tr>\n",
       "  </tbody>\n",
       "</table>"
      ],
      "text/plain": [
       "<IPython.core.display.HTML object>"
      ]
     },
     "metadata": {},
     "output_type": "display_data"
    }
   ],
   "source": [
    "resource_table('nutshell-stats')"
   ]
  },
  {
   "cell_type": "code",
   "execution_count": 180,
   "metadata": {
    "collapsed": false
   },
   "outputs": [
    {
     "data": {
      "text/html": [
       "<table class=\"table table-striped table-hover\">\n",
       "  <thead>\n",
       "    <tr style=\"text-align: right;\">\n",
       "      <th>Media Type</th>\n",
       "      <th>Resource Depth</th>\n",
       "      <th>Level Up To</th>\n",
       "      <th>Style</th>\n",
       "      <th>HK$</th>\n",
       "    </tr>\n",
       "  </thead>\n",
       "  <tbody>\n",
       "    <tr>\n",
       "      <td>book</td>\n",
       "      <td>NaN</td>\n",
       "      <td>solid foundation</td>\n",
       "      <td>anecdotal</td>\n",
       "      <td>$</td>\n",
       "    </tr>\n",
       "  </tbody>\n",
       "</table>"
      ],
      "text/plain": [
       "<IPython.core.display.HTML object>"
      ]
     },
     "metadata": {},
     "output_type": "display_data"
    }
   ],
   "source": [
    "resource_table('naked-stats')"
   ]
  },
  {
   "cell_type": "code",
   "execution_count": 181,
   "metadata": {
    "collapsed": false
   },
   "outputs": [
    {
     "data": {
      "text/html": [
       "<table class=\"table table-striped table-hover\">\n",
       "  <thead>\n",
       "    <tr style=\"text-align: right;\">\n",
       "      <th>Media Type</th>\n",
       "      <th>Resource Depth</th>\n",
       "      <th>Level Up To</th>\n",
       "      <th>Style</th>\n",
       "      <th>HK$</th>\n",
       "    </tr>\n",
       "  </thead>\n",
       "  <tbody>\n",
       "    <tr>\n",
       "      <td>meta-reference</td>\n",
       "      <td>7 Hours</td>\n",
       "      <td>solid foundation</td>\n",
       "      <td>systematic</td>\n",
       "      <td>Free/$</td>\n",
       "    </tr>\n",
       "  </tbody>\n",
       "</table>"
      ],
      "text/plain": [
       "<IPython.core.display.HTML object>"
      ]
     },
     "metadata": {},
     "output_type": "display_data"
    }
   ],
   "source": [
    "resource_table('metacademy-stats')"
   ]
  },
  {
   "cell_type": "code",
   "execution_count": 182,
   "metadata": {
    "collapsed": false
   },
   "outputs": [
    {
     "data": {
      "text/html": [
       "<table class=\"table table-striped table-hover\">\n",
       "  <thead>\n",
       "    <tr style=\"text-align: right;\">\n",
       "      <th>Media Type</th>\n",
       "      <th>Resource Depth</th>\n",
       "      <th>Level Up To</th>\n",
       "      <th>Style</th>\n",
       "      <th>HK$</th>\n",
       "    </tr>\n",
       "  </thead>\n",
       "  <tbody>\n",
       "    <tr>\n",
       "      <td>blog article</td>\n",
       "      <td>90 mins</td>\n",
       "      <td>bare essentials</td>\n",
       "      <td>hand-holding</td>\n",
       "      <td>Free</td>\n",
       "    </tr>\n",
       "  </tbody>\n",
       "</table>"
      ],
      "text/plain": [
       "<IPython.core.display.HTML object>"
      ]
     },
     "metadata": {},
     "output_type": "display_data"
    }
   ],
   "source": [
    "resource_table('school-of-data')"
   ]
  },
  {
   "cell_type": "code",
   "execution_count": 183,
   "metadata": {
    "collapsed": false
   },
   "outputs": [
    {
     "name": "stdout",
     "output_type": "stream",
     "text": [
      "\n",
      "\n"
     ]
    }
   ],
   "source": [
    "print '\\n'"
   ]
  },
  {
   "cell_type": "markdown",
   "metadata": {},
   "source": [
    "# Data"
   ]
  },
  {
   "cell_type": "markdown",
   "metadata": {},
   "source": [
    "Pandas is a Python library for doing data analysis. It's really fast and lets you do exploratory work incredibly quickly. You can imagine pandas being the tool which holds your data. The better you know how to merge in new data and ask for a particualr subset of data, the simpler it will be for you to bring in more evidence to your dataset and answer more specific question about your data.\n"
   ]
  },
  {
   "cell_type": "code",
   "execution_count": 184,
   "metadata": {
    "collapsed": false
   },
   "outputs": [
    {
     "data": {
      "text/html": [
       "<p class=\"resource-container\"><a href=\"\"><code>Pandas Cookbook</code><span style=\"background: url(assets/pandas.png);\"></span></a></p>"
      ],
      "text/plain": [
       "<IPython.core.display.HTML object>"
      ]
     },
     "execution_count": 184,
     "metadata": {},
     "output_type": "execute_result"
    }
   ],
   "source": [
    "print_resource('Pandas Cookbook','','assets/pandas.png')\n",
    "# ![resource](assets/pandas.png) [Learn Pandas](https://bitbucket.org/hrojas/learn-pandas)"
   ]
  },
  {
   "cell_type": "code",
   "execution_count": 185,
   "metadata": {
    "collapsed": false
   },
   "outputs": [
    {
     "data": {
      "text/html": [
       "<table class=\"table table-striped table-hover\">\n",
       "  <thead>\n",
       "    <tr style=\"text-align: right;\">\n",
       "      <th>Media Type</th>\n",
       "      <th>Resource Depth</th>\n",
       "      <th>Level Up To</th>\n",
       "      <th>Style</th>\n",
       "      <th>HK$</th>\n",
       "    </tr>\n",
       "  </thead>\n",
       "  <tbody>\n",
       "    <tr>\n",
       "      <td>book</td>\n",
       "      <td>NaN</td>\n",
       "      <td>NaN</td>\n",
       "      <td>NaN</td>\n",
       "      <td>NaN</td>\n",
       "    </tr>\n",
       "  </tbody>\n",
       "</table>"
      ],
      "text/plain": [
       "<IPython.core.display.HTML object>"
      ]
     },
     "metadata": {},
     "output_type": "display_data"
    }
   ],
   "source": [
    "resource_table('pydata-pandas')"
   ]
  },
  {
   "cell_type": "code",
   "execution_count": 186,
   "metadata": {
    "collapsed": false
   },
   "outputs": [
    {
     "data": {
      "text/html": [
       "<p class=\"resource-container\"><a href=\"http://shop.oreilly.com/product/0636920023784.do\"><code>Python for Data Analysis</code><span style=\"background: url(assets/pydata.png);\"></span></a></p>"
      ],
      "text/plain": [
       "<IPython.core.display.HTML object>"
      ]
     },
     "execution_count": 186,
     "metadata": {},
     "output_type": "execute_result"
    }
   ],
   "source": [
    "print_resource('Python for Data Analysis','http://shop.oreilly.com/product/0636920023784.do','assets/pydata.png')"
   ]
  },
  {
   "cell_type": "code",
   "execution_count": 187,
   "metadata": {
    "collapsed": false
   },
   "outputs": [
    {
     "data": {
      "text/html": [
       "<table class=\"table table-striped table-hover\">\n",
       "  <thead>\n",
       "    <tr style=\"text-align: right;\">\n",
       "      <th>Media Type</th>\n",
       "      <th>Resource Depth</th>\n",
       "      <th>Level Up To</th>\n",
       "      <th>Style</th>\n",
       "      <th>HK$</th>\n",
       "    </tr>\n",
       "  </thead>\n",
       "  <tbody>\n",
       "    <tr>\n",
       "      <td>book</td>\n",
       "      <td>NaN</td>\n",
       "      <td>NaN</td>\n",
       "      <td>NaN</td>\n",
       "      <td>NaN</td>\n",
       "    </tr>\n",
       "  </tbody>\n",
       "</table>"
      ],
      "text/plain": [
       "<IPython.core.display.HTML object>"
      ]
     },
     "metadata": {},
     "output_type": "display_data"
    }
   ],
   "source": [
    "resource_table('pydata-pandas')"
   ]
  },
  {
   "cell_type": "markdown",
   "metadata": {
    "collapsed": false
   },
   "source": [
    "#### Checklist Requirement\n",
    "\n",
    "* Chapter 1 : Preliminaries\n",
    "* Chapter 2 : Introductory Example\n",
    "* Chapter 5 : Getting Started with Pandas\n",
    "\n",
    "#### Summary\n",
    "\n",
    "Python for Data Analysis is concerned with the nuts and bolts of manipulating, processing, cleaning, and crunching data in Python. It is also a practical, modern introduction to scientific computing in Python, tailored for data-intensive applications. This is a book about the parts of the Python language and libraries you’ll need to effectively solve a broad set of data analysis problems."
   ]
  },
  {
   "cell_type": "code",
   "execution_count": 188,
   "metadata": {
    "collapsed": false
   },
   "outputs": [
    {
     "data": {
      "text/html": [
       "<p class=\"resource-container\"><a href=\"http://pandas.pydata.org/pandas-docs/stable/10min.html#min\"><code>10 Min to Pandas</code><span style=\"background: url(assets/10mintopandas.png);\"></span></a></p>"
      ],
      "text/plain": [
       "<IPython.core.display.HTML object>"
      ]
     },
     "execution_count": 188,
     "metadata": {},
     "output_type": "execute_result"
    }
   ],
   "source": [
    "print_resource('10 Min to Pandas','http://pandas.pydata.org/pandas-docs/stable/10min.html#min','assets/10mintopandas.png')"
   ]
  },
  {
   "cell_type": "code",
   "execution_count": 189,
   "metadata": {
    "collapsed": false
   },
   "outputs": [
    {
     "data": {
      "text/html": [
       "<table class=\"table table-striped table-hover\">\n",
       "  <thead>\n",
       "    <tr style=\"text-align: right;\">\n",
       "      <th>Media Type</th>\n",
       "      <th>Resource Depth</th>\n",
       "      <th>Level Up To</th>\n",
       "      <th>Style</th>\n",
       "      <th>HK$</th>\n",
       "    </tr>\n",
       "  </thead>\n",
       "  <tbody>\n",
       "    <tr>\n",
       "      <td>overview</td>\n",
       "      <td>1 hour</td>\n",
       "      <td>conceptual</td>\n",
       "      <td>highlight features</td>\n",
       "      <td>Free</td>\n",
       "    </tr>\n",
       "  </tbody>\n",
       "</table>"
      ],
      "text/plain": [
       "<IPython.core.display.HTML object>"
      ]
     },
     "metadata": {},
     "output_type": "display_data"
    }
   ],
   "source": [
    "resource_table('10min-pandas')"
   ]
  },
  {
   "cell_type": "markdown",
   "metadata": {},
   "source": [
    "![break](assets/resources.png)"
   ]
  },
  {
   "cell_type": "markdown",
   "metadata": {},
   "source": [
    "## Resources for Further Study"
   ]
  },
  {
   "cell_type": "markdown",
   "metadata": {},
   "source": [
    "Upon strengthening your knowledge base in both Python and Statistics, you'll be ready to embark on your journey to become a Data Scientist. [General Assembly's Data Science](https://generalassemb.ly/education/data-science) course picks up  where this prologue ends. It first offers a chance to clarify anything that wasn't clear from the prologue. The instructor then sets off on a 11-week tour to develop the student's programming ability and knowledge of statistical methods. The course provides an in-depth overview of the most popular machine learning algorithms, and culminates in an indivudual data science project. \n",
    "\n",
    "The course curriculum was developed in-house by General Assembly, but any further study of Data Science benefits from having these two books handy for reference.\n",
    "\n",
    "_Building Machine Learning system with Python_ shows you exactly how to find patterns through raw data. The book starts by brushing up on your Python ML knowledge and introducing libraries, and then moves on to more serious projects on datasets, Modelling, Recommendations, improving recommendations through examples and sailing through sound and image processing in detail."
   ]
  },
  {
   "cell_type": "code",
   "execution_count": 190,
   "metadata": {
    "collapsed": false
   },
   "outputs": [
    {
     "data": {
      "text/html": [
       "<p class=\"resource-container\"><a href=\"http://shop.oreilly.com/product/9781782161400.do\"><code>Building Machine Learning Systems</code><span style=\"background: url(assets/building_machine_learning_python.png);\"></span></a></p>"
      ],
      "text/plain": [
       "<IPython.core.display.HTML object>"
      ]
     },
     "execution_count": 190,
     "metadata": {},
     "output_type": "execute_result"
    }
   ],
   "source": [
    "print_resource('Building Machine Learning Systems','http://shop.oreilly.com/product/9781782161400.do', 'assets/building_machine_learning_python.png')"
   ]
  },
  {
   "cell_type": "markdown",
   "metadata": {},
   "source": [
    "_Python for Data Analysis_ is concerned with the nuts and bolts of manipulating, processing, cleaning, and crunching data in Python. It is also a practical, modern introduction to scientific computing in Python, tailored for data-intensive applications. It was authored by the lead developer of the pandas package that's been discussed here, so acts as an insider's guide to everything pandas."
   ]
  },
  {
   "cell_type": "code",
   "execution_count": 191,
   "metadata": {
    "collapsed": false
   },
   "outputs": [
    {
     "data": {
      "text/html": [
       "<p class=\"resource-container\"><a href=\"http://shop.oreilly.com/product/0636920023784.do\"><code>Python for Data Analysis</code><span style=\"background: url(assets/pydata.png);\"></span></a></p>"
      ],
      "text/plain": [
       "<IPython.core.display.HTML object>"
      ]
     },
     "execution_count": 191,
     "metadata": {},
     "output_type": "execute_result"
    }
   ],
   "source": [
    "print_resource('Python for Data Analysis','http://shop.oreilly.com/product/0636920023784.do','assets/pydata.png')"
   ]
  },
  {
   "cell_type": "markdown",
   "metadata": {},
   "source": [
    "With sophisticated analytics, cool new technologies, lean learning principles and agile delivery methods, data science is an exciting, emerging field to join.\n",
    "\n",
    "Please reach out if you have questions about anything or need help!\n",
    "\n",
    "All the best,\n",
    "\n",
    "> Mart van de Ven\n",
    "\n",
    "<footer>Data Science Instructor, Hong Kong</footer>"
   ]
  },
  {
   "cell_type": "code",
   "execution_count": 192,
   "metadata": {
    "collapsed": false
   },
   "outputs": [
    {
     "data": {
      "text/html": [
       "<script>\n",
       "\n",
       "code_show=true;\n",
       "\n",
       "function code_toggle() {\n",
       "    if (code_show){ \n",
       "        $('div.input').hide();\n",
       "        $('.output_scroll').removeClass('output_scroll');\n",
       "        $('.prompt').hide();\n",
       "    } else {\n",
       "        $('div.input').show();\n",
       "        $('.output_scroll').removeClass('output_scroll');\n",
       "        $('.prompt').show();\n",
       "    }\n",
       "    code_show = !code_show\n",
       "}\n",
       "</script>\n",
       " \n",
       "<a class='btn btn-warning btn-lg' style=\"margin:0 auto; display:block; max-width:320px\" href=\"javascript:code_toggle()\">TOGGLE CODE</a>"
      ],
      "text/plain": [
       "<IPython.core.display.HTML object>"
      ]
     },
     "execution_count": 192,
     "metadata": {},
     "output_type": "execute_result"
    }
   ],
   "source": [
    "HTML('''<script>\n",
    "\n",
    "code_show=true;\n",
    "\n",
    "function code_toggle() {\n",
    "    if (code_show){ \n",
    "        $('div.input').hide();\n",
    "        $('.output_scroll').removeClass('output_scroll');\n",
    "        $('.prompt').hide();\n",
    "    } else {\n",
    "        $('div.input').show();\n",
    "        $('.output_scroll').removeClass('output_scroll');\n",
    "        $('.prompt').show();\n",
    "    }\n",
    "    code_show = !code_show\n",
    "}\n",
    "</script>\n",
    " \n",
    "<a class='btn btn-warning btn-lg' style=\"margin:0 auto; display:block; max-width:320px\" href=\"javascript:code_toggle()\">TOGGLE CODE</a>''')"
   ]
  },
  {
   "cell_type": "code",
   "execution_count": 193,
   "metadata": {
    "collapsed": false
   },
   "outputs": [
    {
     "data": {
      "text/html": [
       "<link href='http://fonts.googleapis.com/css?family=Roboto|Open+Sans' rel='stylesheet' type='text/css'>\n",
       "<link rel=\"stylesheet\" type=\"text/css\" href=\"./theme/custom.css\">\n",
       "\n",
       "<script>\n",
       "$(function(){\n",
       "    code_toggle()\n",
       "})\n",
       "</script>\n"
      ],
      "text/plain": [
       "<IPython.core.display.HTML object>"
      ]
     },
     "execution_count": 193,
     "metadata": {},
     "output_type": "execute_result"
    }
   ],
   "source": [
    "HTML('''<link href='http://fonts.googleapis.com/css?family=Roboto|Open+Sans' rel='stylesheet' type='text/css'>\n",
    "<link rel=\"stylesheet\" type=\"text/css\" href=\"./theme/custom.css\">\n",
    "\n",
    "<script>\n",
    "$(function(){\n",
    "    code_toggle()\n",
    "})\n",
    "</script>\n",
    "''')"
   ]
  }
 ],
 "metadata": {
  "kernelspec": {
   "display_name": "Python 2",
   "language": "python",
   "name": "python2"
  },
  "language_info": {
   "codemirror_mode": {
    "name": "ipython",
    "version": 2
   },
   "file_extension": ".py",
   "mimetype": "text/x-python",
   "name": "python",
   "nbconvert_exporter": "python",
   "pygments_lexer": "ipython2",
   "version": "2.7.9"
  }
 },
 "nbformat": 4,
 "nbformat_minor": 0
}
